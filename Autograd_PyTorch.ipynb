{
 "cells": [
  {
   "cell_type": "markdown",
   "id": "1ded885d-a9d3-4144-9d27-e7610ad5f484",
   "metadata": {},
   "source": [
    "# Operating Differentiation on Variables - with PyTorch Autograd\n",
    "Written on 7/4/2024"
   ]
  },
  {
   "cell_type": "markdown",
   "id": "3315e358-4f6c-4e47-9ec7-3c9f684db911",
   "metadata": {},
   "source": [
    "In Nueral Network training, our most prior goal is to find the optimal points in domain which value loss function as minimal. For this goal, we execute differentiation with respect to each input variables on domain. PyTorch Autograd is one of well-known tools for this operation. \n",
    "The `autograd` package offers automatic differentiation for all operations involving Tensors. It operates as running from definition of function itself, meaning that backpropagation is defined by the way your code is defining the function from each variables.\n",
    "\n",
    "Let's understand the Autograd function's principles and observe its tutorials to perform differentiation."
   ]
  },
  {
   "attachments": {
    "7386d96a-7c05-4c30-96ba-fd583178fcef.png": {
     "image/png": "[encoded data removed]"
    },
    "baca0238-a2c9-4ed0-9d08-3756a7a00cf7.png": {
     "image/png": "[encoded data removed]"
    }
   },
   "cell_type": "markdown",
   "id": "cdadfcb9-b785-46da-bbf0-2c391a41537b",
   "metadata": {},
   "source": [
    "## Preliminary : Initialize Variables to Define Function\n",
    "### Variable\n",
    "The core class of the autograd package is `autograd.Variable`. This class wraps a `Tensor` and supports almost all the operations defined for Tensors. It provides access to the underlying raw tensor via the `.data` attribute, and the gradient with respect to this variable is accumulated in the `.grad` attribute, as illustrated in the following figure.\n",
    "\n",
    "![image.png](attachment:baca0238-a2c9-4ed0-9d08-3756a7a00cf7.png)![image.png](attachment:7386d96a-7c05-4c30-96ba-fd583178fcef.png)\n",
    "\n",
    "The Variable class also includes a *backward* method to perform backpropagation. After computing the function, you can call `.backward()` to automatically calculate all gradients. For instance, to backpropagate a loss function and train model parameter x, you use a variable loss to store the value computed by the loss function. By calling `loss.backward()`, PyTorch computes the gradients ∂loss/∂x for all trainable parameters and stores these gradient results in the corresponding variable x."
   ]
  },
  {
   "cell_type": "code",
   "execution_count": 1,
   "id": "572cbbf4-9142-4a6a-8951-d03fc3881c33",
   "metadata": {},
   "outputs": [],
   "source": [
    "import torch\n",
    "from torch.autograd import Variable\n",
    "\n",
    "# Variables wrap a Tensor\n",
    "x = Variable(torch.ones(2, 3), requires_grad=True)\n",
    "# Variable containing:\n",
    "# 1  1  1\n",
    "# 1  1  1\n",
    "# [torch.FloatTensor of size 2x3]\n",
    "\n",
    "x.requires_grad = True #requires_grad indicates whether a variable is trainable."
   ]
  },
  {
   "cell_type": "markdown",
   "id": "d8f048f0-ec61-47fc-8c46-84d6cb37f93a",
   "metadata": {},
   "source": [
    "### Function\n",
    "\n",
    "Another crucial class for autograd implementation is Function. Variable and Function are interconnected, forming an acyclic graph that encodes the entire history of computation. Each variable has a `.grad_fn` attribute, which references the Function that created the Variable (This is not the Variables the user created, which have a grad_fn of None).\n",
    "\n",
    "To compute derivatives, you can call `.backward()` on a Variable. If the Variable is a scalar which holds a single element, you don't need to provide any arguments to `backward()`. However, if it contains more elements, you must specify a `grad_output` argument, which is a tensor of the same shape.\n",
    "\n",
    "The _backward_ method traverses the graph backward to compute the gradients. After this computation for one iteration, the graph is typically disposed of, although this behavior can be overridden with the `retain_graph` flag (though this is rarely recommended). For the next training iteration, a new graph is created.\n",
    "\n"
   ]
  },
  {
   "cell_type": "code",
   "execution_count": 2,
   "id": "52e76e49-694c-4045-b809-4a1a5e8d01a4",
   "metadata": {},
   "outputs": [
    {
     "data": {
      "text/plain": [
       "tensor([[6., 6., 6.],\n",
       "        [6., 6., 6.]], grad_fn=<AddBackward0>)"
      ]
     },
     "execution_count": 2,
     "metadata": {},
     "output_type": "execute_result"
    }
   ],
   "source": [
    "y = x * x + 5           # Create y from an operation\n",
    "# [torch.FloatTensor of size 2x3]\n",
    "y"
   ]
  },
  {
   "cell_type": "markdown",
   "id": "814dde21-3ffc-40e4-870d-dd8e3a696427",
   "metadata": {},
   "source": [
    "## Get Gradient : Use `Autograd` to Differentiate the Variables \n",
    "Now, we can specify the `Autograd` function. There are many options as argument of this PyTorch function."
   ]
  },
  {
   "cell_type": "markdown",
   "id": "0f8af53f-a2c2-4ad3-9fb1-868780a9f96a",
   "metadata": {},
   "source": [
    "### Setting `requires_grad`\n",
    "The `requires_grad` flag, which defaults to false unless wrapped in an nn.Parameter, allows for precise exclusion of subgraphs from gradient computation. It affects both the forward and backward passes:\n",
    "\n",
    "- **Forward Pass**: An operation is recorded in the backward graph only if at least one of its input tensors requires gradients.\n",
    "- **Backward Pass**: During the `.backward()` call, only leaf tensors with `requires_grad=True` will have their gradients accumulated in their .grad fields.\n",
    "\n",
    "Although every tensor has this flag, it is meaningful to set it only for leaf tensors (those without a grad_fn e.g. the parameters of an nn.Module). Non-leaf tensors, which do have a grad_fn, are part of a backward graph and thus their gradients are necessary as intermediate results to compute gradients for leaf tensors that require gradients. Consequently, all non-leaf tensors automatically have `requires_grad=True`.\n",
    "\n",
    "The `requires_grad` flag should be the primary method for controlling which parts of the model participate in gradient computation. For instance, to freeze parts of a pretrained model during fine-tuning, apply `.requires_grad_(False)` to the parameters that should not be updated. Since operations involving these parameters won't be recorded in the forward pass, their .grad fields won't be updated during the backward pass, effectively excluding them from the backward graph.\n",
    "\n",
    "Because freezing parts of a model is a common requirement, `requires_grad` can also be set at the module level using `nn.Module.requires_grad_()`. When applied to a module, `.requires_grad_()` affects all of the module's parameters, which have `requires_grad=True` by default."
   ]
  },
  {
   "cell_type": "markdown",
   "id": "31c6585d-50fd-43be-8ce9-2293889c76fa",
   "metadata": {},
   "source": [
    "## Tutorials\n",
    "We will compute gradient of polynomial function by `Autograd` function at given variable values, and compare this with the derivative values computed by hand."
   ]
  },
  {
   "cell_type": "markdown",
   "id": "cebec184-42fa-47ad-ba3a-90786a381da8",
   "metadata": {},
   "source": [
    "Lets calculate the derivative value of $f(x) = 2x^{3} + 7x + 5$ at $x = 7$ by using `torch.autograd.grad()`."
   ]
  },
  {
   "cell_type": "markdown",
   "id": "a413c1ca-e4a3-428a-bd60-dfddb4cc886e",
   "metadata": {},
   "source": [
    "**Step 1.** Import the torch library and initialize the input value `x` as a tensor and ensure that `requires_grad=True`."
   ]
  },
  {
   "cell_type": "code",
   "execution_count": 3,
   "id": "c2fc50a0-66fe-47e7-a340-af0ced345f03",
   "metadata": {},
   "outputs": [
    {
     "data": {
      "text/plain": [
       "tensor([[1., 2., 3.],\n",
       "        [4., 5., 6.]], requires_grad=True)"
      ]
     },
     "execution_count": 3,
     "metadata": {},
     "output_type": "execute_result"
    }
   ],
   "source": [
    "import torch\n",
    "x = torch.tensor([[1.0,2.0,3.0],[4.0,5.0,6.0]],requires_grad=True)\n",
    "x\n"
   ]
  },
  {
   "cell_type": "markdown",
   "id": "bd8ca639-bb80-442d-a939-47f5f355e520",
   "metadata": {},
   "source": [
    "**Step 2.** Specify the function corresponding to the given mathematical equation $f(x) = 2x^{3} + 5x^{2} + 7x + 10$.\n",
    "\n"
   ]
  },
  {
   "cell_type": "code",
   "execution_count": 4,
   "id": "e84afee7-f584-44ba-ad6c-e99ad97dd24d",
   "metadata": {},
   "outputs": [
    {
     "name": "stdout",
     "output_type": "stream",
     "text": [
      "tensor([[ 14.,  35.,  80.],\n",
      "        [161., 290., 479.]], grad_fn=<AddBackward0>)\n"
     ]
    }
   ],
   "source": [
    "def f(x):\n",
    "\treturn 2*(x**3) + 7*x + 5\n",
    "\n",
    "print(f(x))\n"
   ]
  },
  {
   "cell_type": "markdown",
   "id": "363beb7d-f56e-4791-a111-33b6c4f73e6b",
   "metadata": {},
   "source": [
    "**Step 3.** Let's create a variable `y` that represents the sum of values of $f$ by `f(x).sum()`. This summation process is required since derivative of $f$ at a given domain point can be measured by `torch.autograd.grad(outputs, input)` in which gradient can be implicitly created only for scalar outputs argument."
   ]
  },
  {
   "cell_type": "code",
   "execution_count": 5,
   "id": "3590c904-5ae4-44d3-b4a2-8d51b3d5f0c7",
   "metadata": {},
   "outputs": [
    {
     "data": {
      "text/plain": [
       "tensor(1059., grad_fn=<SumBackward0>)"
      ]
     },
     "execution_count": 5,
     "metadata": {},
     "output_type": "execute_result"
    }
   ],
   "source": [
    "y = f(x).sum()\n",
    "y\n"
   ]
  },
  {
   "cell_type": "markdown",
   "id": "fb4be084-05a1-429a-adbd-ea1fcc7874c1",
   "metadata": {},
   "source": [
    "**Step 4.** Use `torch.autograd.grad(y, x)` to do derivative operation on f(x) at the given x.\n",
    "\n"
   ]
  },
  {
   "cell_type": "code",
   "execution_count": 6,
   "id": "73b47679-8161-45c0-9bb1-72cdd4ebf1f6",
   "metadata": {},
   "outputs": [
    {
     "name": "stdout",
     "output_type": "stream",
     "text": [
      "(tensor([[ 13.,  31.,  61.],\n",
      "        [103., 157., 223.]]),)\n"
     ]
    }
   ],
   "source": [
    "grad_f = torch.autograd.grad(y, x)\n",
    "print(grad_f)\n"
   ]
  },
  {
   "cell_type": "markdown",
   "id": "e23d8e62-ba56-41ed-8a2e-fc93e61ae400",
   "metadata": {},
   "source": [
    "In other way, we can use `.backward()` function as follows."
   ]
  },
  {
   "cell_type": "code",
   "execution_count": 7,
   "id": "cced157b-71f0-4ca9-96d1-ac9981d36314",
   "metadata": {},
   "outputs": [
    {
     "name": "stdout",
     "output_type": "stream",
     "text": [
      "tensor([[ 13.,  31.,  61.],\n",
      "        [103., 157., 223.]])\n"
     ]
    }
   ],
   "source": [
    "x = torch.tensor([[1.0,2.0,3.0],[4.0,5.0,6.0]],requires_grad=True)\n",
    "y = f(x).sum()\n",
    "y.backward()\n",
    "print(x.grad)"
   ]
  },
  {
   "cell_type": "markdown",
   "id": "13137c75-8de3-43ad-9827-0617e41a88f4",
   "metadata": {},
   "source": [
    "Without `.sum()` process on $f$ in this `backward` function, we can alternatively take same shape of the loss funciton $f$ as the input variable for this function."
   ]
  },
  {
   "cell_type": "code",
   "execution_count": 8,
   "id": "e2197ae7-5797-43c5-9ade-4af37d3f66ff",
   "metadata": {},
   "outputs": [
    {
     "name": "stdout",
     "output_type": "stream",
     "text": [
      "tensor([[ 13.,  31.,  61.],\n",
      "        [103., 157., 223.]])\n"
     ]
    }
   ],
   "source": [
    "x = torch.tensor([[1.0,2.0,3.0],[4.0,5.0,6.0]],requires_grad=True)\n",
    "f(x).backward(torch.ones_like(x))\n",
    "print(x.grad)"
   ]
  },
  {
   "cell_type": "markdown",
   "id": "3d3efe46-509e-45a7-95be-b4e8911896fd",
   "metadata": {},
   "source": [
    "To crosscheck the derivative of the above steps, let's take derivative on $f$ by hand."
   ]
  },
  {
   "cell_type": "code",
   "execution_count": 9,
   "id": "aa26ff8a-f48f-4682-9477-b73df7c0b48c",
   "metadata": {},
   "outputs": [
    {
     "name": "stdout",
     "output_type": "stream",
     "text": [
      "tensor([[ 13.,  31.,  61.],\n",
      "        [103., 157., 223.]], grad_fn=<AddBackward0>)\n"
     ]
    }
   ],
   "source": [
    "df = 6*x**2 + 7\n",
    "print(df)\n"
   ]
  },
  {
   "cell_type": "markdown",
   "id": "0491c633-e44c-435c-9c0c-de2079f1544d",
   "metadata": {},
   "source": [
    "As we can see from above that the grad_f value and df are the same.\n",
    "\n"
   ]
  },
  {
   "cell_type": "markdown",
   "id": "93edb6de-d829-42a9-9237-8cd3bfc81729",
   "metadata": {},
   "source": [
    "## Reference\n",
    "\n",
    "[1] https://sebarnold.net/tutorials/beginner/blitz/autograd_tutorial.html <br>\n",
    "[2] https://pytorch.org/docs/stable/notes/autograd.html#locally-disable-grad-doc <br>\n",
    "[3] https://jhui.github.io/2018/02/09/PyTorch-Variables-functionals-and-Autograd <br>\n",
    "[4] https://www.geeksforgeeks.org/how-to-differentiate-a-gradient-in-pytorch <br>\n",
    "[5] https://pytorch.org/docs/stable/generated/torch.autograd.grad.html"
   ]
  },
  {
   "cell_type": "code",
   "execution_count": null,
   "id": "4ef432ee-a3b0-4c20-8e32-90884c558ba0",
   "metadata": {},
   "outputs": [],
   "source": []
  }
 ],
 "metadata": {
  "kernelspec": {
   "display_name": "Python 3 (ipykernel)",
   "language": "python",
   "name": "python3"
  },
  "language_info": {
   "codemirror_mode": {
    "name": "ipython",
    "version": 3
   },
   "file_extension": ".py",
   "mimetype": "text/x-python",
   "name": "python",
   "nbconvert_exporter": "python",
   "pygments_lexer": "ipython3",
   "version": "3.11.7"
  }
 },
 "nbformat": 4,
 "nbformat_minor": 5
}
